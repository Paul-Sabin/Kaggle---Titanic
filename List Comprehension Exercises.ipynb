{
 "cells": [
  {
   "cell_type": "code",
   "execution_count": 1,
   "metadata": {},
   "outputs": [
    {
     "name": "stdout",
     "output_type": "stream",
     "text": [
      "[7, 14, 21, 28, 35, 42, 49, 56, 63, 70, 77, 84, 91, 98, 105, 112, 119, 126, 133, 140, 147, 154, 161, 168, 175, 182, 189, 196, 203, 210, 217, 224, 231, 238, 245, 252, 259, 266, 273, 280, 287, 294, 301, 308, 315, 322, 329, 336, 343, 350, 357, 364, 371, 378, 385, 392, 399, 406, 413, 420, 427, 434, 441, 448, 455, 462, 469, 476, 483, 490, 497, 504, 511, 518, 525, 532, 539, 546, 553, 560, 567, 574, 581, 588, 595, 602, 609, 616, 623, 630, 637, 644, 651, 658, 665, 672, 679, 686, 693, 700, 707, 714, 721, 728, 735, 742, 749, 756, 763, 770, 777, 784, 791, 798, 805, 812, 819, 826, 833, 840, 847, 854, 861, 868, 875, 882, 889, 896, 903, 910, 917, 924, 931, 938, 945, 952, 959, 966, 973, 980, 987, 994]\n"
     ]
    }
   ],
   "source": [
    "    # Find all of the numbers from 1-1000 that are divisible by 7\n",
    "\n",
    "result = [num for num in range(1,1001) if num % 7 == 0]\n",
    "print(result)"
   ]
  },
  {
   "cell_type": "code",
   "execution_count": 3,
   "metadata": {},
   "outputs": [
    {
     "name": "stdout",
     "output_type": "stream",
     "text": [
      "[3, 13, 23, 30, 31, 32, 33, 34, 35, 36, 37, 38, 39, 43, 53, 63, 73, 83, 93, 103, 113, 123, 130, 131, 132, 133, 134, 135, 136, 137, 138, 139, 143, 153, 163, 173, 183, 193, 203, 213, 223, 230, 231, 232, 233, 234, 235, 236, 237, 238, 239, 243, 253, 263, 273, 283, 293, 300, 301, 302, 303, 304, 305, 306, 307, 308, 309, 310, 311, 312, 313, 314, 315, 316, 317, 318, 319, 320, 321, 322, 323, 324, 325, 326, 327, 328, 329, 330, 331, 332, 333, 334, 335, 336, 337, 338, 339, 340, 341, 342, 343, 344, 345, 346, 347, 348, 349, 350, 351, 352, 353, 354, 355, 356, 357, 358, 359, 360, 361, 362, 363, 364, 365, 366, 367, 368, 369, 370, 371, 372, 373, 374, 375, 376, 377, 378, 379, 380, 381, 382, 383, 384, 385, 386, 387, 388, 389, 390, 391, 392, 393, 394, 395, 396, 397, 398, 399, 403, 413, 423, 430, 431, 432, 433, 434, 435, 436, 437, 438, 439, 443, 453, 463, 473, 483, 493, 503, 513, 523, 530, 531, 532, 533, 534, 535, 536, 537, 538, 539, 543, 553, 563, 573, 583, 593, 603, 613, 623, 630, 631, 632, 633, 634, 635, 636, 637, 638, 639, 643, 653, 663, 673, 683, 693, 703, 713, 723, 730, 731, 732, 733, 734, 735, 736, 737, 738, 739, 743, 753, 763, 773, 783, 793, 803, 813, 823, 830, 831, 832, 833, 834, 835, 836, 837, 838, 839, 843, 853, 863, 873, 883, 893, 903, 913, 923, 930, 931, 932, 933, 934, 935, 936, 937, 938, 939, 943, 953, 963, 973, 983, 993]\n"
     ]
    }
   ],
   "source": [
    "    # Find all of the numbers from 1-1000 that have a 3 in them\n",
    "\n",
    "result = [num for num in range(1,1001) if '3' in str(num)]\n",
    "print(result)"
   ]
  },
  {
   "cell_type": "code",
   "execution_count": 6,
   "metadata": {},
   "outputs": [
    {
     "data": {
      "text/plain": [
       "7"
      ]
     },
     "execution_count": 6,
     "metadata": {},
     "output_type": "execute_result"
    }
   ],
   "source": [
    "# Count the number of spaces in a string\n",
    "\n",
    "def numberOfSpaces(string):\n",
    "    result = len([char for char in string if char == ' '])\n",
    "    return result\n",
    "    \n",
    "numberOfSpaces('for those of you who wear fanny packs')    "
   ]
  },
  {
   "cell_type": "code",
   "execution_count": 18,
   "metadata": {},
   "outputs": [
    {
     "name": "stdout",
     "output_type": "stream",
     "text": [
      "['t', 'l', 'k', 's', 'n', 'w', 'y', 'r', 'Y', 'm', 'h', 'd', 'g']\n"
     ]
    }
   ],
   "source": [
    "# Create a list of all the consonants in the string “Yellow Yaks like yelling and yawning and yesturday they yodled while eating yuky yams”\n",
    "\n",
    "print(list(set([char for char in 'Yellow Yaks like yelling and yawning and yesturday they yodled while eating yuky yams' if char.lower() not in 'aeiou '])))"
   ]
  },
  {
   "cell_type": "code",
   "execution_count": 22,
   "metadata": {},
   "outputs": [
    {
     "name": "stdout",
     "output_type": "stream",
     "text": [
      "[(0, 'hi'), (1, 4), (2, 8.99), (3, 'apple'), (4, ('t,b', 'n'))]\n"
     ]
    }
   ],
   "source": [
    "# Get the index and the value as a tuple for items in the list “hi”, 4, 8.99, ‘apple’, (‘t,b’,’n’). Result would look like (index, value), (index, value)\n",
    "\n",
    "print([(index, value) for index, value in enumerate([\"hi\", 4, 8.99, 'apple', ('t,b','n')])])\n",
    "\n"
   ]
  },
  {
   "cell_type": "code",
   "execution_count": 23,
   "metadata": {},
   "outputs": [
    {
     "data": {
      "text/plain": [
       "[2, 3, 4]"
      ]
     },
     "execution_count": 23,
     "metadata": {},
     "output_type": "execute_result"
    }
   ],
   "source": [
    "# Find the common numbers in two lists (without using a tuple or set) list_a = 1, 2, 3, 4, list_b = 2, 3, 4, 5\n",
    "\n",
    "[number for number in [2,3,4,5] if number in [1,2,3,4]]"
   ]
  },
  {
   "cell_type": "code",
   "execution_count": 31,
   "metadata": {},
   "outputs": [
    {
     "data": {
      "text/plain": [
       "[1984, 13, 1000]"
      ]
     },
     "execution_count": 31,
     "metadata": {},
     "output_type": "execute_result"
    }
   ],
   "source": [
    "# Get only the numbers in a sentence like 'In 1984 there were 13 instances of a protest with over 1000 people attending'\n",
    "\n",
    "def getNumbers(sentence):\n",
    "    return [int(item) for item in sentence.split() if item.isdigit()]\n",
    "\n",
    "getNumbers('In 1984 there were 13 instances of a protest with over 1000 people attending')"
   ]
  },
  {
   "cell_type": "code",
   "execution_count": 40,
   "metadata": {},
   "outputs": [
    {
     "data": {
      "text/plain": [
       "['even',\n",
       " 'odd',\n",
       " 'even',\n",
       " 'odd',\n",
       " 'even',\n",
       " 'odd',\n",
       " 'even',\n",
       " 'odd',\n",
       " 'even',\n",
       " 'odd',\n",
       " 'even',\n",
       " 'odd',\n",
       " 'even',\n",
       " 'odd',\n",
       " 'even',\n",
       " 'odd',\n",
       " 'even',\n",
       " 'odd',\n",
       " 'even',\n",
       " 'odd']"
      ]
     },
     "execution_count": 40,
     "metadata": {},
     "output_type": "execute_result"
    }
   ],
   "source": [
    "# Given numbers = range(20), produce a list containing the word ‘even’ if a number in the numbers is even, and the word ‘odd’ if the number is odd. \n",
    "# Result would look like ‘odd’,’odd’, ‘even’\n",
    "\n",
    "['even' if number %2 == 0 else 'odd' for number in range(20)]"
   ]
  },
  {
   "cell_type": "code",
   "execution_count": 41,
   "metadata": {},
   "outputs": [
    {
     "data": {
      "text/plain": [
       "[(2, 2), (7, 7), (1, 1)]"
      ]
     },
     "execution_count": 41,
     "metadata": {},
     "output_type": "execute_result"
    }
   ],
   "source": [
    "# Produce a list of tuples consisting of only the matching numbers in these lists list_a = 1, 2, 3,4,5,6,7,8,9, list_b = 2, 7, 1, 12. Result would look \n",
    "# like (4,4), (12,12)\n",
    "\n",
    "def matchingNumbers(list_a, list_b):\n",
    "    return [(number, number) for number in list_b if number in list_a]\n",
    "\n",
    "matchingNumbers([1,2,3,4,5,6,7,8,9], [2,7,1,12])    "
   ]
  },
  {
   "cell_type": "code",
   "execution_count": 44,
   "metadata": {},
   "outputs": [
    {
     "data": {
      "text/plain": [
       "['I', 'for']"
      ]
     },
     "execution_count": 44,
     "metadata": {},
     "output_type": "execute_result"
    }
   ],
   "source": [
    "# Find all of the words in a string that have fewer than 4 letters\n",
    "\n",
    "def shortWords(sentence):\n",
    "    return [item for item in sentence.split() if len(item)<4 and item.isalpha()]\n",
    "\n",
    "shortWords(\"I just 36 can't wait for Saturday\")    "
   ]
  },
  {
   "cell_type": "code",
   "execution_count": 55,
   "metadata": {},
   "outputs": [
    {
     "name": "stdout",
     "output_type": "stream",
     "text": [
      "length of 772\n",
      "[2, 3, 4, 5, 6, 7, 8, 9, 10, 12, 14, 15, 16, 18, 20, 21, 22, 24, 25, 26, 27, 28, 30, 32, 33, 34, 35, 36, 38, 39, 40, 42, 44, 45, 46, 48, 49, 50, 51, 52, 54, 55, 56, 57, 58, 60, 62, 63, 64, 65, 66, 68, 69, 70, 72, 74, 75, 76, 77, 78, 80, 81, 82, 84, 85, 86, 87, 88, 90, 91, 92, 93, 94, 95, 96, 98, 99, 100, 102, 104, 105, 106, 108, 110, 111, 112, 114, 115, 116, 117, 118, 119, 120, 122, 123, 124, 125, 126, 128, 129, 130, 132, 133, 134, 135, 136, 138, 140, 141, 142, 144, 145, 146, 147, 148, 150, 152, 153, 154, 155, 156, 158, 159, 160, 161, 162, 164, 165, 166, 168, 170, 171, 172, 174, 175, 176, 177, 178, 180, 182, 183, 184, 185, 186, 188, 189, 190, 192, 194, 195, 196, 198, 200, 201, 202, 203, 204, 205, 206, 207, 208, 210, 212, 213, 214, 215, 216, 217, 218, 219, 220, 222, 224, 225, 226, 228, 230, 231, 232, 234, 235, 236, 237, 238, 240, 242, 243, 244, 245, 246, 248, 249, 250, 252, 254, 255, 256, 258, 259, 260, 261, 262, 264, 265, 266, 267, 268, 270, 272, 273, 274, 275, 276, 278, 279, 280, 282, 284, 285, 286, 287, 288, 290, 291, 292, 294, 295, 296, 297, 298, 300, 301, 302, 303, 304, 305, 306, 308, 309, 310, 312, 314, 315, 316, 318, 320, 321, 322, 324, 325, 326, 327, 328, 329, 330, 332, 333, 334, 335, 336, 338, 339, 340, 342, 343, 344, 345, 346, 348, 350, 351, 352, 354, 355, 356, 357, 358, 360, 362, 363, 364, 365, 366, 368, 369, 370, 371, 372, 374, 375, 376, 378, 380, 381, 382, 384, 385, 386, 387, 388, 390, 392, 393, 394, 395, 396, 398, 399, 400, 402, 404, 405, 406, 408, 410, 411, 412, 413, 414, 415, 416, 417, 418, 420, 422, 423, 424, 425, 426, 427, 428, 429, 430, 432, 434, 435, 436, 438, 440, 441, 442, 444, 445, 446, 447, 448, 450, 452, 453, 454, 455, 456, 458, 459, 460, 462, 464, 465, 466, 468, 469, 470, 471, 472, 474, 475, 476, 477, 478, 480, 482, 483, 484, 485, 486, 488, 489, 490, 492, 494, 495, 496, 497, 498, 500, 501, 502, 504, 505, 506, 507, 508, 510, 511, 512, 513, 514, 515, 516, 518, 519, 520, 522, 524, 525, 526, 528, 530, 531, 532, 534, 535, 536, 537, 538, 539, 540, 542, 543, 544, 545, 546, 548, 549, 550, 552, 553, 554, 555, 556, 558, 560, 561, 562, 564, 565, 566, 567, 568, 570, 572, 573, 574, 575, 576, 578, 579, 580, 581, 582, 584, 585, 586, 588, 590, 591, 592, 594, 595, 596, 597, 598, 600, 602, 603, 604, 605, 606, 608, 609, 610, 612, 614, 615, 616, 618, 620, 621, 622, 623, 624, 625, 626, 627, 628, 630, 632, 633, 634, 635, 636, 637, 638, 639, 640, 642, 644, 645, 646, 648, 650, 651, 652, 654, 655, 656, 657, 658, 660, 662, 663, 664, 665, 666, 668, 669, 670, 672, 674, 675, 676, 678, 679, 680, 681, 682, 684, 685, 686, 687, 688, 690, 692, 693, 694, 695, 696, 698, 699, 700, 702, 704, 705, 706, 707, 708, 710, 711, 712, 714, 715, 716, 717, 718, 720, 721, 722, 723, 724, 725, 726, 728, 729, 730, 732, 734, 735, 736, 738, 740, 741, 742, 744, 745, 746, 747, 748, 749, 750, 752, 753, 754, 755, 756, 758, 759, 760, 762, 763, 764, 765, 766, 768, 770, 771, 772, 774, 775, 776, 777, 778, 780, 782, 783, 784, 785, 786, 788, 789, 790, 791, 792, 794, 795, 796, 798, 800, 801, 802, 804, 805, 806, 807, 808, 810, 812, 813, 814, 815, 816, 818, 819, 820, 822, 824, 825, 826, 828, 830, 831, 832, 833, 834, 835, 836, 837, 838, 840, 842, 843, 844, 845, 846, 847, 848, 849, 850, 852, 854, 855, 856, 858, 860, 861, 862, 864, 865, 866, 867, 868, 870, 872, 873, 874, 875, 876, 878, 879, 880, 882, 884, 885, 886, 888, 889, 890, 891, 892, 894, 895, 896, 897, 898, 900, 902, 903, 904, 905, 906, 908, 909, 910, 912, 914, 915, 916, 917, 918, 920, 921, 922, 924, 925, 926, 927, 928, 930, 931, 932, 933, 934, 935, 936, 938, 939, 940, 942, 944, 945, 946, 948, 950, 951, 952, 954, 955, 956, 957, 958, 959, 960, 962, 963, 964, 965, 966, 968, 969, 970, 972, 973, 974, 975, 976, 978, 980, 981, 982, 984, 985, 986, 987, 988, 990, 992, 993, 994, 995, 996, 998, 999, 1000]\n"
     ]
    }
   ],
   "source": [
    "# Use a nested list comprehension to find all of the numbers from 1-1000 that are divisible by any single digit besides 1 (2-9)\n",
    "\n",
    "# My non-nested solution:\n",
    "\n",
    "output = [a for a in range(1, 1001) if a %2 ==0 or a %3 ==0 or a%4 ==0 or a%5 ==0 or a%6 ==0 or a%7 ==0 or a%8 ==0 or a%9==0]\n",
    "print(f'length of {len(output)}')\n",
    "print(output)\n"
   ]
  },
  {
   "cell_type": "code",
   "execution_count": 59,
   "metadata": {},
   "outputs": [
    {
     "name": "stdout",
     "output_type": "stream",
     "text": [
      "length of 772\n",
      "[2, 3, 4, 5, 6, 7, 8, 9, 10, 12, 14, 15, 16, 18, 20, 21, 22, 24, 25, 26, 27, 28, 30, 32, 33, 34, 35, 36, 38, 39, 40, 42, 44, 45, 46, 48, 49, 50, 51, 52, 54, 55, 56, 57, 58, 60, 62, 63, 64, 65, 66, 68, 69, 70, 72, 74, 75, 76, 77, 78, 80, 81, 82, 84, 85, 86, 87, 88, 90, 91, 92, 93, 94, 95, 96, 98, 99, 100, 102, 104, 105, 106, 108, 110, 111, 112, 114, 115, 116, 117, 118, 119, 120, 122, 123, 124, 125, 126, 128, 129, 130, 132, 133, 134, 135, 136, 138, 140, 141, 142, 144, 145, 146, 147, 148, 150, 152, 153, 154, 155, 156, 158, 159, 160, 161, 162, 164, 165, 166, 168, 170, 171, 172, 174, 175, 176, 177, 178, 180, 182, 183, 184, 185, 186, 188, 189, 190, 192, 194, 195, 196, 198, 200, 201, 202, 203, 204, 205, 206, 207, 208, 210, 212, 213, 214, 215, 216, 217, 218, 219, 220, 222, 224, 225, 226, 228, 230, 231, 232, 234, 235, 236, 237, 238, 240, 242, 243, 244, 245, 246, 248, 249, 250, 252, 254, 255, 256, 258, 259, 260, 261, 262, 264, 265, 266, 267, 268, 270, 272, 273, 274, 275, 276, 278, 279, 280, 282, 284, 285, 286, 287, 288, 290, 291, 292, 294, 295, 296, 297, 298, 300, 301, 302, 303, 304, 305, 306, 308, 309, 310, 312, 314, 315, 316, 318, 320, 321, 322, 324, 325, 326, 327, 328, 329, 330, 332, 333, 334, 335, 336, 338, 339, 340, 342, 343, 344, 345, 346, 348, 350, 351, 352, 354, 355, 356, 357, 358, 360, 362, 363, 364, 365, 366, 368, 369, 370, 371, 372, 374, 375, 376, 378, 380, 381, 382, 384, 385, 386, 387, 388, 390, 392, 393, 394, 395, 396, 398, 399, 400, 402, 404, 405, 406, 408, 410, 411, 412, 413, 414, 415, 416, 417, 418, 420, 422, 423, 424, 425, 426, 427, 428, 429, 430, 432, 434, 435, 436, 438, 440, 441, 442, 444, 445, 446, 447, 448, 450, 452, 453, 454, 455, 456, 458, 459, 460, 462, 464, 465, 466, 468, 469, 470, 471, 472, 474, 475, 476, 477, 478, 480, 482, 483, 484, 485, 486, 488, 489, 490, 492, 494, 495, 496, 497, 498, 500, 501, 502, 504, 505, 506, 507, 508, 510, 511, 512, 513, 514, 515, 516, 518, 519, 520, 522, 524, 525, 526, 528, 530, 531, 532, 534, 535, 536, 537, 538, 539, 540, 542, 543, 544, 545, 546, 548, 549, 550, 552, 553, 554, 555, 556, 558, 560, 561, 562, 564, 565, 566, 567, 568, 570, 572, 573, 574, 575, 576, 578, 579, 580, 581, 582, 584, 585, 586, 588, 590, 591, 592, 594, 595, 596, 597, 598, 600, 602, 603, 604, 605, 606, 608, 609, 610, 612, 614, 615, 616, 618, 620, 621, 622, 623, 624, 625, 626, 627, 628, 630, 632, 633, 634, 635, 636, 637, 638, 639, 640, 642, 644, 645, 646, 648, 650, 651, 652, 654, 655, 656, 657, 658, 660, 662, 663, 664, 665, 666, 668, 669, 670, 672, 674, 675, 676, 678, 679, 680, 681, 682, 684, 685, 686, 687, 688, 690, 692, 693, 694, 695, 696, 698, 699, 700, 702, 704, 705, 706, 707, 708, 710, 711, 712, 714, 715, 716, 717, 718, 720, 721, 722, 723, 724, 725, 726, 728, 729, 730, 732, 734, 735, 736, 738, 740, 741, 742, 744, 745, 746, 747, 748, 749, 750, 752, 753, 754, 755, 756, 758, 759, 760, 762, 763, 764, 765, 766, 768, 770, 771, 772, 774, 775, 776, 777, 778, 780, 782, 783, 784, 785, 786, 788, 789, 790, 791, 792, 794, 795, 796, 798, 800, 801, 802, 804, 805, 806, 807, 808, 810, 812, 813, 814, 815, 816, 818, 819, 820, 822, 824, 825, 826, 828, 830, 831, 832, 833, 834, 835, 836, 837, 838, 840, 842, 843, 844, 845, 846, 847, 848, 849, 850, 852, 854, 855, 856, 858, 860, 861, 862, 864, 865, 866, 867, 868, 870, 872, 873, 874, 875, 876, 878, 879, 880, 882, 884, 885, 886, 888, 889, 890, 891, 892, 894, 895, 896, 897, 898, 900, 902, 903, 904, 905, 906, 908, 909, 910, 912, 914, 915, 916, 917, 918, 920, 921, 922, 924, 925, 926, 927, 928, 930, 931, 932, 933, 934, 935, 936, 938, 939, 940, 942, 944, 945, 946, 948, 950, 951, 952, 954, 955, 956, 957, 958, 959, 960, 962, 963, 964, 965, 966, 968, 969, 970, 972, 973, 974, 975, 976, 978, 980, 981, 982, 984, 985, 986, 987, 988, 990, 992, 993, 994, 995, 996, 998, 999, 1000]\n"
     ]
    }
   ],
   "source": [
    "# Nested solution with help:\n",
    "\n",
    "output = [i for i in range(1, 1001) if any(i % divisor == 0 for divisor in range(2, 10))]\n",
    "print(f'length of {len(output)}')\n",
    "print(output)\n"
   ]
  },
  {
   "cell_type": "code",
   "execution_count": 78,
   "metadata": {},
   "outputs": [
    {
     "name": "stdout",
     "output_type": "stream",
     "text": [
      "[0, 1]\n"
     ]
    }
   ],
   "source": [
    "class Solution(object):\n",
    "    def twoSum(self, nums, target):\n",
    "        for index, number in enumerate(nums):\n",
    "            if target - number in nums[index+1:]:\n",
    "                return [index, nums[index+1:].index(target - number) + index + 1]\n",
    "solution_instance = Solution()\n",
    "result = solution_instance.twoSum([2, 7, 11, 15], 9)\n",
    "print(result)"
   ]
  },
  {
   "cell_type": "code",
   "execution_count": 80,
   "metadata": {},
   "outputs": [
    {
     "name": "stdout",
     "output_type": "stream",
     "text": [
      "[8, 6]\n"
     ]
    }
   ],
   "source": [
    "class Solution(object):\n",
    "    def twoSum(self, nums, target):\n",
    "        seen = {}\n",
    "        for index, number in enumerate(nums):\n",
    "            if target - number in seen:\n",
    "                return [index, seen[target - number]]\n",
    "            else:\n",
    "                seen[number] = index    \n",
    "solution_instance = Solution()\n",
    "result = solution_instance.twoSum([1,3,5,7,9,11,13,15,17], 30)\n",
    "print(result)"
   ]
  },
  {
   "cell_type": "markdown",
   "metadata": {},
   "source": [
    "Minmum size subarray sum"
   ]
  },
  {
   "cell_type": "code",
   "execution_count": null,
   "metadata": {},
   "outputs": [],
   "source": [
    "class Solution(object):\n",
    "    def minSubArrayLen(self, target, nums):\n",
    "        lm = 0\n",
    "        rm = 1\n",
    "        minLen = len(nums) + 1\n",
    "        window = nums[lm:rm]\n",
    "        print(f'start window: {window}')\n",
    "        while rm <= len(nums):\n",
    "            window = nums[lm:rm]\n",
    "            print(f'window sum = {sum(window)}')\n",
    "            if sum(window) >= target:\n",
    "                if len(window) < minLen:\n",
    "                    minLen = len(window)\n",
    "                    print(f'New minimum subarray length of {minLen}')\n",
    "                    break\n",
    "            else: \n",
    "                rm += 1\n",
    "                print(f'rm increased to {rm}')\n",
    "         \n",
    "\n",
    "        while lm < rm:\n",
    "            lm += 1\n",
    "            while rm <= len(nums):\n",
    "                window = nums[lm:rm]\n",
    "                print(f'new window: {window}')\n",
    "                if sum(window) >= target:\n",
    "                    if len(window) < minLen:\n",
    "                        minLen = len(window)\n",
    "                        print(f'New minimum subarray length of {minLen}')\n",
    "                        break\n",
    "                else:\n",
    "                    rm += 1\n",
    "                    lm += 1    \n",
    "\n",
    "\n",
    "        if minLen > len(nums):\n",
    "            minLen = 0\n",
    "            print('Sum of whole array < target')\n",
    "        return minLen                \n",
    "\n",
    "solution_instance = Solution()\n",
    "result = solution_instance.minSubArrayLen(20, [2, 2, 3, 4, 5, 6, 7, 8, 1, 1, 1, 0])"
   ]
  },
  {
   "cell_type": "markdown",
   "metadata": {},
   "source": [
    "See below that first for loop is outer loop, second one is inner."
   ]
  },
  {
   "cell_type": "code",
   "execution_count": 2,
   "metadata": {},
   "outputs": [
    {
     "name": "stdout",
     "output_type": "stream",
     "text": [
      "[('a', 0), ('a', 1), ('a', 2), ('a', 3), ('b', 0), ('b', 1), ('b', 2), ('b', 3), ('c', 0), ('c', 1), ('c', 2), ('c', 3), ('d', 0), ('d', 1), ('d', 2), ('d', 3)]\n"
     ]
    }
   ],
   "source": [
    "my_list = [(letter, number) for letter in 'abcd' for number in range(4)]\n",
    "print(my_list)"
   ]
  },
  {
   "cell_type": "markdown",
   "metadata": {},
   "source": [
    "Dictionary comprehension with the help of zip()"
   ]
  },
  {
   "cell_type": "code",
   "execution_count": 6,
   "metadata": {},
   "outputs": [
    {
     "name": "stdout",
     "output_type": "stream",
     "text": [
      "{'paul': 'cook', 'fred': 'maid', 'sally': 'pilot'}\n"
     ]
    }
   ],
   "source": [
    "names = ['paul', 'fred', 'sally']\n",
    "jobs = ['cook', 'maid', 'pilot']\n",
    "my_dict = {x: y for x, y in zip(names, jobs)}\n",
    "print(my_dict)"
   ]
  },
  {
   "cell_type": "markdown",
   "metadata": {},
   "source": [
    "Leetcode roman numerals (https://leetcode.com/problems/roman-to-integer/submissions/)"
   ]
  },
  {
   "cell_type": "code",
   "execution_count": 13,
   "metadata": {},
   "outputs": [
    {
     "name": "stdout",
     "output_type": "stream",
     "text": [
      "1994\n"
     ]
    }
   ],
   "source": [
    "'''Roman numerals are represented by seven different symbols: I, V, X, L, C, D and M.\n",
    "\n",
    "Symbol       Value\n",
    "I             1\n",
    "V             5\n",
    "X             10\n",
    "L             50\n",
    "C             100\n",
    "D             500\n",
    "M             1000\n",
    "\n",
    "For example, 2 is written as II in Roman numeral, just two ones added together. 12 is written as XII, which is simply X + II. The number 27 is written as \n",
    "XXVII, which is XX + V + II.\n",
    "\n",
    "Roman numerals are usually written largest to smallest from left to right. However, the numeral for four is not IIII. Instead, the number four is written \n",
    "as IV. Because the one is before the five we subtract it making four. The same principle applies to the number nine, which is written as IX. \n",
    "There are six instances where subtraction is used:\n",
    "\n",
    "    I can be placed before V (5) and X (10) to make 4 and 9. \n",
    "    X can be placed before L (50) and C (100) to make 40 and 90. \n",
    "    C can be placed before D (500) and M (1000) to make 400 and 900.\n",
    "\n",
    "Given a roman numeral, convert it to an integer.\n",
    "\n",
    " \n",
    "\n",
    "Example 1:\n",
    "\n",
    "Input: s = \"III\"\n",
    "Output: 3\n",
    "Explanation: III = 3.\n",
    "\n",
    "Example 2:\n",
    "\n",
    "Input: s = \"LVIII\"\n",
    "Output: 58\n",
    "Explanation: L = 50, V= 5, III = 3.\n",
    "\n",
    "Example 3:\n",
    "\n",
    "Input: s = \"MCMXCIV\"\n",
    "Output: 1994\n",
    "Explanation: M = 1000, CM = 900, XC = 90 and IV = 4.\n",
    "\n",
    " \n",
    "\n",
    "Constraints:\n",
    "\n",
    "    1 <= s.length <= 15\n",
    "    s contains only the characters ('I', 'V', 'X', 'L', 'C', 'D', 'M').\n",
    "    It is guaranteed that s is a valid roman numeral in the range [1, 3999].'''\n",
    "\n",
    "class Solution(object):\n",
    "    def romanToInt(self, s):\n",
    "        total = 0\n",
    "        for index, rn in enumerate(s):\n",
    "            if rn == 'I' and index != len(s) - 1 and s[index+1] in ['V', 'X']:\n",
    "                total -= 1\n",
    "            elif rn == 'I':\n",
    "                total += 1\n",
    "            elif rn == 'V':\n",
    "                total += 5\n",
    "            elif rn == 'X' and index != len(s) - 1 and s[index+1] in ['L','C']:\n",
    "                total -= 10\n",
    "            elif rn == 'X':\n",
    "                total += 10  \n",
    "            elif rn == 'L':\n",
    "                total += 50\n",
    "            elif rn == 'C' and index != len(s) - 1 and s[index+1] in ['D', 'M']:\n",
    "                total -= 100\n",
    "            elif rn == 'C':\n",
    "                total += 100\n",
    "            elif rn == 'D':\n",
    "                total += 500\n",
    "            elif rn == 'M':\n",
    "                total += 1000                    \n",
    "        return total                        \n",
    "\n",
    "solution_instance = Solution()\n",
    "result = solution_instance.romanToInt('MCMXCIV')\n",
    "print(result)\n"
   ]
  },
  {
   "cell_type": "markdown",
   "metadata": {},
   "source": [
    "Slightly improved solution using a dictionary below"
   ]
  },
  {
   "cell_type": "code",
   "execution_count": 21,
   "metadata": {},
   "outputs": [
    {
     "name": "stdout",
     "output_type": "stream",
     "text": [
      "1994\n"
     ]
    }
   ],
   "source": [
    "class Solution(object):\n",
    "    def romanToInt(self, s):\n",
    "        total = 0\n",
    "        rNums = {\n",
    "            'I':1,\n",
    "            'V':5,\n",
    "            'X':10,\n",
    "            'L':50,\n",
    "            'C':100,\n",
    "            'D':500,\n",
    "            'M':1000\n",
    "        }   \n",
    "        if 'IV'in s: \n",
    "            total -= 2\n",
    "        if 'IX' in s:\n",
    "            total -= 2\n",
    "        if 'XL' in s:\n",
    "            total -= 20\n",
    "        if 'XC' in s:\n",
    "            total -= 20\n",
    "        if 'CD' in s:\n",
    "            total -= 200\n",
    "        if 'CM' in s:\n",
    "            total -= 200\n",
    "        for rn in s:\n",
    "            total = total + rNums[rn]\n",
    "        return total                                            \n",
    "\n",
    "solution_instance = Solution()\n",
    "result = solution_instance.romanToInt('MCMXCIV')\n",
    "print(result)"
   ]
  },
  {
   "cell_type": "markdown",
   "metadata": {},
   "source": [
    "Highest rated solution:"
   ]
  },
  {
   "cell_type": "code",
   "execution_count": 24,
   "metadata": {},
   "outputs": [
    {
     "name": "stdout",
     "output_type": "stream",
     "text": [
      "1994\n"
     ]
    }
   ],
   "source": [
    "class Solution(object):\n",
    "    def romanToInt(self, s):\n",
    "        total = 0\n",
    "        rNums = {\n",
    "            'I':1,\n",
    "            'V':5,\n",
    "            'X':10,\n",
    "            'L':50,\n",
    "            'C':100,\n",
    "            'D':500,\n",
    "            'M':1000\n",
    "        }   \n",
    "        for i in range(len(s)):\n",
    "            if i < len(s) - 1 and rNums[s[i]] < rNums[s[i + 1]]:\n",
    "                total -= rNums[s[i]]\n",
    "            else:\n",
    "                total += rNums[s[i]]    \n",
    "        return total                                            \n",
    "\n",
    "solution_instance = Solution()\n",
    "result = solution_instance.romanToInt('MCMXCIV')\n",
    "print(result)"
   ]
  },
  {
   "cell_type": "markdown",
   "metadata": {},
   "source": [
    "Pyramid Slide Down Kata https://www.codewars.com/kata/551f23362ff852e2ab000037/train/python"
   ]
  },
  {
   "cell_type": "code",
   "execution_count": 29,
   "metadata": {},
   "outputs": [
    {
     "name": "stdout",
     "output_type": "stream",
     "text": [
      "1\n",
      "Row 1 has 2 combinations\n",
      "2\n",
      "Row 2 has 4 combinations\n",
      "2\n",
      "Row 3 has 8 combinations\n",
      "2\n",
      "Row 4 has 16 combinations\n",
      "20\n",
      "Row 5 has 32 combinations\n",
      "99\n",
      "Row 6 has 64 combinations\n"
     ]
    },
    {
     "data": {
      "text/plain": [
       "\"@test.describe('longest_slide_down')\\ndef test_longest_slide_down():\\n    @test.it('should work for small pyramids')\\n    def small_pyramids():\\n        test.assert_equals(longest_slide_down([[3], [7, 4], [2, 4, 6], [8, 5, 9, 3]]), 23)\\n    @test.it('should work for medium pyramids')\\n    def medium_pyramids():\\n        test.assert_equals(longest_slide_down([\\n            [75],\\n            [95, 64],\\n            [17, 47, 82],\\n            [18, 35, 87, 10],\\n            [20,  4, 82, 47, 65],\\n            [19,  1, 23, 75,  3, 34],\\n            [88,  2, 77, 73,  7, 63, 67],\\n            [99, 65,  4, 28,  6, 16, 70, 92],\\n            [41, 41, 26, 56, 83, 40, 80, 70, 33],\\n            [41, 48, 72, 33, 47, 32, 37, 16, 94, 29],\\n            [53, 71, 44, 65, 25, 43, 91, 52, 97, 51, 14],\\n            [70, 11, 33, 28, 77, 73, 17, 78, 39, 68, 17, 57],\\n            [91, 71, 52, 38, 17, 14, 91, 43, 58, 50, 27, 29, 48],\\n            [63, 66,  4, 68, 89, 53, 67, 30, 73, 16, 69, 87, 40, 31],\\n            [ 4, 62, 98, 27, 23,  9, 70, 98, 73, 93, 38, 53, 60,  4, 23],\\n            ]), 1074)\""
      ]
     },
     "execution_count": 29,
     "metadata": {},
     "output_type": "execute_result"
    }
   ],
   "source": [
    "def longest_slide_down(pyramid):\n",
    "    rowNumber = 1\n",
    "    for row in pyramid:\n",
    "        print(max(row))\n",
    "        print(f'Row {rowNumber} has {2**rowNumber} combinations')\n",
    "        rowNumber += 1\n",
    "\n",
    "# Once you move to index 1, you can't return to index 0. You either go up or stay on same index.\n",
    "        # 1 1\n",
    "        # 2 2\n",
    "        # 4 3\n",
    "        # 8 4\n",
    "        # 16 5\n",
    "longest_slide_down([[1], \n",
    "                    [1, 2], \n",
    "                    [2, 1, 1], \n",
    "                    [1, 2, 1, 1],\n",
    "                    [2, 1, 1, 1, 20],\n",
    "                    [1, 2, 99, 1, 1, 1]])\n",
    "\n",
    "'''@test.describe('longest_slide_down')\n",
    "def test_longest_slide_down():\n",
    "    @test.it('should work for small pyramids')\n",
    "    def small_pyramids():\n",
    "        test.assert_equals(longest_slide_down([[3], [7, 4], [2, 4, 6], [8, 5, 9, 3]]), 23)\n",
    "    @test.it('should work for medium pyramids')\n",
    "    def medium_pyramids():\n",
    "        test.assert_equals(longest_slide_down([\n",
    "            [75],\n",
    "            [95, 64],\n",
    "            [17, 47, 82],\n",
    "            [18, 35, 87, 10],\n",
    "            [20,  4, 82, 47, 65],\n",
    "            [19,  1, 23, 75,  3, 34],\n",
    "            [88,  2, 77, 73,  7, 63, 67],\n",
    "            [99, 65,  4, 28,  6, 16, 70, 92],\n",
    "            [41, 41, 26, 56, 83, 40, 80, 70, 33],\n",
    "            [41, 48, 72, 33, 47, 32, 37, 16, 94, 29],\n",
    "            [53, 71, 44, 65, 25, 43, 91, 52, 97, 51, 14],\n",
    "            [70, 11, 33, 28, 77, 73, 17, 78, 39, 68, 17, 57],\n",
    "            [91, 71, 52, 38, 17, 14, 91, 43, 58, 50, 27, 29, 48],\n",
    "            [63, 66,  4, 68, 89, 53, 67, 30, 73, 16, 69, 87, 40, 31],\n",
    "            [ 4, 62, 98, 27, 23,  9, 70, 98, 73, 93, 38, 53, 60,  4, 23],\n",
    "            ]), 1074)'''\n"
   ]
  },
  {
   "cell_type": "markdown",
   "metadata": {},
   "source": [
    "Leetcode Binary Search"
   ]
  },
  {
   "cell_type": "code",
   "execution_count": 71,
   "metadata": {},
   "outputs": [
    {
     "name": "stdout",
     "output_type": "stream",
     "text": [
      "search length: 12\n",
      "guess index: 6, which is 60\n",
      "r marker: 6\n",
      "search length: 6\n",
      "guess index: 3, which is 30\n",
      "l marker: 4\n",
      "search length: 2\n",
      "guess index: 5, which is 50\n",
      "r marker: 5\n",
      "search length: 1\n",
      "guess index: 4, which is 40\n",
      "4\n"
     ]
    }
   ],
   "source": [
    "# Given an array of integers nums which is sorted in ascending order, and an integer target, write a function to search target in nums. \n",
    "# If target exists, then return its index. Otherwise, return -1. You must write an algorithm with O(log n) runtime complexity.\n",
    "class Solution(object):\n",
    "    def search(self, nums, target):\n",
    "        l=0\n",
    "        r=len(nums) -1\n",
    "        while True:\n",
    "            print(f'search length: {len(nums[l:r])}')\n",
    "            guess = int(l + round(0.5*(len(nums[l:r]))))\n",
    "            print(f'guess index: {guess}, which is {nums[guess]}')\n",
    "            if nums[guess] == target:\n",
    "                return guess\n",
    "            elif len(nums[l:r]) < 2:\n",
    "                return -1\n",
    "            elif nums[guess] < target:\n",
    "                l = guess + 1\n",
    "                print(f'l marker: {l}')\n",
    "            elif nums[guess] > target:  \n",
    "                r = guess      \n",
    "                print(f'r marker: {r}')      \n",
    "\n",
    "solution_instance = Solution()\n",
    "result = solution_instance.search([0,10,20,30,40,50,60,70,80,90,100,110,120], 40)\n",
    "print(result)"
   ]
  },
  {
   "cell_type": "markdown",
   "metadata": {},
   "source": [
    "Binary Search Template 1"
   ]
  },
  {
   "cell_type": "code",
   "execution_count": null,
   "metadata": {},
   "outputs": [],
   "source": [
    "def binarySearch(nums, target):\n",
    "    \"\"\"\n",
    "    :type nums: List[int]\n",
    "    :type target: int\n",
    "    :rtype: int\n",
    "    \"\"\"\n",
    "    if len(nums) == 0:\n",
    "        return -1\n",
    "\n",
    "# Left pointer is first index (0), right is last index (length-1)\n",
    "    left, right = 0, len(nums) - 1\n",
    "    while left <= right:\n",
    "        mid = (left + right) // 2 # Find mid-point (average) between left and right pointer indices using integer division // so it rounds down\n",
    "        if nums[mid] == target:\n",
    "            return mid\n",
    "        elif nums[mid] < target:\n",
    "            left = mid + 1\n",
    "        else:\n",
    "            right = mid - 1\n",
    "\n",
    "    # End Condition: left > right\n",
    "    return -1"
   ]
  },
  {
   "cell_type": "code",
   "execution_count": 78,
   "metadata": {},
   "outputs": [
    {
     "name": "stdout",
     "output_type": "stream",
     "text": [
      "root of 1 is 1.0\n",
      "root of 2 is 1.4142135623730951\n",
      "root of 3 is 1.7320508075688772\n",
      "root of 4 is 2.0\n",
      "root of 5 is 2.23606797749979\n",
      "root of 6 is 2.449489742783178\n",
      "root of 7 is 2.6457513110645907\n",
      "root of 8 is 2.8284271247461903\n",
      "root of 9 is 3.0\n",
      "root of 10 is 3.1622776601683795\n",
      "root of 11 is 3.3166247903554\n"
     ]
    }
   ],
   "source": [
    "for sq in range(1,12):\n",
    "    print(f'root of {sq} is {sq**0.5}')"
   ]
  },
  {
   "cell_type": "markdown",
   "metadata": {},
   "source": [
    "Leetcode search for square root"
   ]
  },
  {
   "cell_type": "code",
   "execution_count": null,
   "metadata": {},
   "outputs": [],
   "source": [
    "class Solution(object):\n",
    "    def mySqrt(self, x):\n",
    "        \"\"\"\n",
    "        :type x: int\n",
    "        :rtype: int\n",
    "        \"\"\"\n",
    "        l = 1\n",
    "        r = x // 2\n",
    "        mid = (l + r) // 2\n",
    "        while 0 < mid < x:\n",
    "            if mid * mid <= x and (mid+1) * (mid+1) > x:\n",
    "                return mid\n",
    "            elif mid * mid <= x:\n",
    "\n"
   ]
  }
 ],
 "metadata": {
  "kernelspec": {
   "display_name": "CAB",
   "language": "python",
   "name": "python3"
  },
  "language_info": {
   "codemirror_mode": {
    "name": "ipython",
    "version": 3
   },
   "file_extension": ".py",
   "mimetype": "text/x-python",
   "name": "python",
   "nbconvert_exporter": "python",
   "pygments_lexer": "ipython3",
   "version": "3.10.12"
  }
 },
 "nbformat": 4,
 "nbformat_minor": 2
}
